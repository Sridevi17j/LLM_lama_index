{
 "cells": [
  {
   "cell_type": "code",
   "execution_count": 16,
   "id": "initial_id",
   "metadata": {
    "ExecuteTime": {
     "end_time": "2024-03-14T04:43:39.591875Z",
     "start_time": "2024-03-14T04:43:37.212738Z"
    }
   },
   "outputs": [],
   "source": [
    "# Read the document\n",
    "from llama_index.core import VectorStoreIndex, SimpleDirectoryReader\n",
    "documents = SimpleDirectoryReader(input_files = [\"data2/Attention is All You Need.pdf\"]).load_data()"
   ]
  },
  {
   "cell_type": "code",
   "execution_count": 17,
   "id": "f0a3aa5bd5203721",
   "metadata": {
    "ExecuteTime": {
     "end_time": "2024-03-14T04:43:44.445793Z",
     "start_time": "2024-03-14T04:43:44.440717Z"
    },
    "collapsed": false,
    "jupyter": {
     "outputs_hidden": false
    }
   },
   "outputs": [],
   "source": [
    "# Initiate ollama in local\n",
    "from llama_index.llms.ollama import Ollama\n",
    "llm = Ollama(model=\"llama2\", request_timeout=2000.0)"
   ]
  },
  {
   "cell_type": "code",
   "execution_count": 3,
   "id": "5a028c53333b972",
   "metadata": {
    "ExecuteTime": {
     "end_time": "2024-03-13T11:15:08.220928Z",
     "start_time": "2024-03-13T11:15:05.143405Z"
    },
    "collapsed": false,
    "jupyter": {
     "outputs_hidden": false
    }
   },
   "outputs": [],
   "source": [
    "# Set the embedding as we are not using OpenAI API\n",
    "from llama_index.embeddings.huggingface import HuggingFaceEmbedding\n",
    "from llama_index.core import Settings\n",
    "\n",
    "Settings.embed_model = HuggingFaceEmbedding(\n",
    "    model_name=\"sentence-transformers/all-MiniLM-L6-v2\"\n",
    ")"
   ]
  },
  {
   "cell_type": "code",
   "execution_count": 4,
   "id": "ed71617e294887f0",
   "metadata": {
    "ExecuteTime": {
     "end_time": "2024-03-13T11:15:11.373610Z",
     "start_time": "2024-03-13T11:15:10.320466Z"
    },
    "collapsed": false,
    "jupyter": {
     "outputs_hidden": false
    }
   },
   "outputs": [],
   "source": [
    "# Set the llm ( Here llm is ollama)\n",
    "\n",
    "Settings.chunk_size = 2048\n",
    "Settings.context_window = 3900\n",
    "\n",
    "Settings.llm = llm\n",
    "\n",
    "index = VectorStoreIndex.from_documents(documents)\n"
   ]
  },
  {
   "cell_type": "code",
   "execution_count": 20,
   "id": "8ef3a784a9410133",
   "metadata": {
    "ExecuteTime": {
     "end_time": "2024-03-14T04:46:32.980905Z",
     "start_time": "2024-03-14T04:45:27.634136Z"
    },
    "collapsed": false,
    "jupyter": {
     "outputs_hidden": false
    }
   },
   "outputs": [
    {
     "name": "stdout",
     "output_type": "stream",
     "text": [
      "Based on the context information provided, the document appears to be about a variety of topics related to natural language processing (NLP) and machine learning. The document mentions several different techniques and approaches used in NLP, including attention-based models, recurrent neural networks (RNNs), long short-term memory (LSTM) networks, and more. It also references several papers and research works related to these topics.\n",
      "Without prior knowledge, it is difficult to pinpoint a single topic or theme that the document is about. However, based on the context information provided, it seems likely that the document is discussing various aspects of NLP and machine learning, and how these techniques can be applied to real-world problems."
     ]
    }
   ],
   "source": [
    "# get the index and query it\n",
    "index = VectorStoreIndex.from_documents(documents)\n",
    "query_engine = index.as_query_engine(streaming=True)\n",
    "response_stream = query_engine.query(\"What is this document about?\")\n",
    "response_stream.print_response_stream()\n",
    "\n"
   ]
  },
  {
   "cell_type": "code",
   "execution_count": 6,
   "id": "6d4e2fb33146ae3b",
   "metadata": {
    "ExecuteTime": {
     "end_time": "2024-03-13T11:16:36.396068Z",
     "start_time": "2024-03-13T11:15:47.483974Z"
    },
    "collapsed": false,
    "jupyter": {
     "outputs_hidden": false
    }
   },
   "outputs": [
    {
     "name": "stdout",
     "output_type": "stream",
     "text": [
      "Based on the provided context, this document appears to be a set of guidelines for the New Health Insurance Scheme (NHIS) for employees and pensioners in Tamil Nadu, India. The document provides instructions on how to access the NHIS web portal and mobile application, which were developed by the United India Insurance Company Limited to enable effective monitoring and increase transparency in the implementation of the NHIS scheme. The guidelines also provide information on how to login into the web portal or mobile application, including the user ID and password requirements, as well as contact details of district coordinators, nodal officers, and treasury officers for any grievance redressal."
     ]
    }
   ],
   "source": [
    "# This is another document i tested through query engine\n",
    "query_engine = index.as_query_engine(streaming=True)\n",
    "response_stream = query_engine.query(\"What is this document about?\")\n",
    "response_stream.print_response_stream()\n",
    "\n"
   ]
  },
  {
   "cell_type": "code",
   "execution_count": 7,
   "id": "7feb88d67dd30643",
   "metadata": {
    "ExecuteTime": {
     "end_time": "2024-03-13T11:45:40.337839Z",
     "start_time": "2024-03-13T11:45:39.189527Z"
    },
    "collapsed": false,
    "jupyter": {
     "outputs_hidden": false
    }
   },
   "outputs": [],
   "source": [
    "# Reading content from the website url\n",
    "from llama_index.readers.web import BeautifulSoupWebReader\n",
    "\n",
    "url = \"https://learndatasciencewithme.com\"\n",
    "\n",
    "documents1 = BeautifulSoupWebReader().load_data([url])"
   ]
  },
  {
   "cell_type": "code",
   "execution_count": 9,
   "id": "99f0f8e365362b24",
   "metadata": {
    "ExecuteTime": {
     "end_time": "2024-03-13T11:47:00.035993Z",
     "start_time": "2024-03-13T11:46:36.736565Z"
    },
    "collapsed": false,
    "jupyter": {
     "outputs_hidden": false
    }
   },
   "outputs": [
    {
     "name": "stdout",
     "output_type": "stream",
     "text": [
      "Based on the provided context information, this document appears to be a blog post or article about learning data science with the author's personal journey and experiences. The author mentions that they are starting to learn data science and will update the blog with their learnings, making it a free resource for anyone interested in learning data science. The post also includes some general information about data science and related topics, such as machine learning and statistics."
     ]
    }
   ],
   "source": [
    "index = VectorStoreIndex.from_documents(documents1)\n",
    "query_engine = index.as_query_engine(streaming=True)\n",
    "response_stream = query_engine.query(\"What is this document about?\")\n",
    "response_stream.print_response_stream()\n"
   ]
  },
  {
   "cell_type": "code",
   "execution_count": 12,
   "id": "d0b2138b9932a82",
   "metadata": {
    "ExecuteTime": {
     "end_time": "2024-03-13T11:53:07.904889Z",
     "start_time": "2024-03-13T11:52:30.655804Z"
    },
    "collapsed": false,
    "jupyter": {
     "outputs_hidden": false
    }
   },
   "outputs": [
    {
     "name": "stdout",
     "output_type": "stream",
     "text": [
      "Based on the provided context information, it seems that the blog is focused on learning Data Science for free, without enrolling in a course with a fee structure. The author is sharing their own learnings and experiences in Data Science, and inviting others to join them on this journey.\n",
      "Other details mentioned in the blog include:\n",
      "* The author's name is Sridevi, and they have experience in the infrastructure domain.\n",
      "* The author started learning Data Science out of curiosity, to understand what it's all about.\n",
      "* The author is now completely obsessed with Data Science, and believes it's not just a word but the future.\n",
      "* The blog uses Just the Docs, a documentation theme for Jekyll, for its layout.\n",
      "* The author has a LinkedIn profile."
     ]
    }
   ],
   "source": [
    "response_stream = query_engine.query(\"What other details mentioned in the blog\")\n",
    "response_stream.print_response_stream()"
   ]
  },
  {
   "cell_type": "code",
   "execution_count": 13,
   "id": "806912dc5dfabaa6",
   "metadata": {
    "ExecuteTime": {
     "end_time": "2024-03-13T11:55:35.094865Z",
     "start_time": "2024-03-13T11:55:16.788727Z"
    },
    "collapsed": false,
    "jupyter": {
     "outputs_hidden": false
    }
   },
   "outputs": [
    {
     "name": "stdout",
     "output_type": "stream",
     "text": [
      "Based on the provided context information, it seems that the blog is focused on learning Data Science for free, without enrolling in a course with a fee structure. The author is sharing their own learnings and experiences in Data Science, and inviting others to join them on this journey.\n",
      "\n",
      "Other details mentioned in the blog include:\n",
      "\n",
      "* The author's name is Sridevi, and they have experience in the infrastructure domain.\n",
      "* The author started learning Data Science out of curiosity, to understand what it's all about.\n",
      "* The author is now completely obsessed with Data Science, and believes it's not just a word but the future.\n",
      "* The blog uses Just the Docs, a documentation theme for Jekyll, for its layout.\n",
      "* The author has a LinkedIn profile.\n",
      "Statistics, as defined on the blog, refers to the study of collecting, analyzing, and interpreting data. It involves the use of mathematical techniques to summarize and describe the main features of a dataset, as well as to make predictions or decisions based on the data. The blog defines statistics as an essential part of data science, as it provides a foundation for understanding and working with data."
     ]
    }
   ],
   "source": [
    "response_stream.print_response_stream()\n",
    "response_stream = query_engine.query(\"What is statistics according to the blog\")\n",
    "response_stream.print_response_stream()"
   ]
  },
  {
   "cell_type": "code",
   "execution_count": 14,
   "id": "7517c0b257f6b6bb",
   "metadata": {
    "ExecuteTime": {
     "end_time": "2024-03-13T11:58:17.254820Z",
     "start_time": "2024-03-13T11:56:25.185669Z"
    },
    "collapsed": false,
    "jupyter": {
     "outputs_hidden": false
    }
   },
   "outputs": [
    {
     "name": "stdout",
     "output_type": "stream",
     "text": [
      "Statistics, as defined on the blog, refers to the study of collecting, analyzing, and interpreting data. It involves the use of mathematical techniques to summarize and describe the main features of a dataset, as well as to make predictions or decisions based on the data. The blog defines statistics as an essential part of data science, as it provides a foundation for understanding and working with data.\n",
      "Based on the provided context, there are several other subtopics that are related to data science and machine learning. Here are some of them:\n",
      "1. Data Preprocessing: This subtopic deals with the cleaning, transforming, and preparing datasets for analysis. It includes tasks such as handling missing values, outliers, and data normalization.\n",
      "2. Feature Selection: This subtopic involves selecting the most relevant features from a dataset to use in machine learning models. It helps improve the model's performance and reduce the risk of overfitting.\n",
      "3. Data Visualization: This subtopic deals with creating visual representations of datasets to gain insights and understand patterns. It includes tasks such as creating charts, plots, and maps.\n",
      "4. Supervised Learning: This subtopic involves training machine learning models on labeled datasets to make predictions on new data. It includes tasks such as decision tree, linear regression, and logistic regression.\n",
      "5. Unsupervised Learning: This subtopic involves training machine learning models on unlabeled datasets to identify patterns and structure in the data. It includes tasks such as clustering, dimensionality reduction, and anomaly detection.\n",
      "6. Natural Language Processing (NLP): This subtopic deals with the application of machine learning techniques to textual data, including tasks such as sentiment analysis, text classification, and language translation.\n",
      "7. Time Series Analysis: This subtopic involves analyzing and forecasting time-based data, including tasks such as time series decomposition, forecasting, and anomaly detection.\n",
      "8. Recommendation Systems: This subtopic deals with developing systems that recommend items or services based on user behavior and preferences. It includes tasks such as collaborative filtering, content-based filtering, and matrix factorization.\n",
      "9. Ensemble Methods: This subtopic involves combining the predictions of multiple machine learning models to improve overall performance. It includes tasks such as bagging, boosting, and stacking.\n",
      "10. Deep Learning: This subtopic deals with the application of neural networks to machine learning tasks, including tasks such as image recognition, speech recognition, and natural language processing."
     ]
    }
   ],
   "source": [
    "response_stream.print_response_stream()\n",
    "response_stream = query_engine.query(\"What other sub topics are there\")\n",
    "response_stream.print_response_stream()"
   ]
  },
  {
   "cell_type": "code",
   "execution_count": null,
   "id": "39d3453cd67b6668",
   "metadata": {
    "collapsed": false,
    "jupyter": {
     "outputs_hidden": false
    }
   },
   "outputs": [],
   "source": []
  }
 ],
 "metadata": {
  "kernelspec": {
   "display_name": "Python 3 (ipykernel)",
   "language": "python",
   "name": "python3"
  },
  "language_info": {
   "codemirror_mode": {
    "name": "ipython",
    "version": 3
   },
   "file_extension": ".py",
   "mimetype": "text/x-python",
   "name": "python",
   "nbconvert_exporter": "python",
   "pygments_lexer": "ipython3",
   "version": "3.11.7"
  }
 },
 "nbformat": 4,
 "nbformat_minor": 5
}
